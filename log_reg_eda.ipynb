{
  "cells": [
    {
      "metadata": {
        "_uuid": "8f2839f25d086af736a60e9eeb907d3b93b6e0e5",
        "_cell_guid": "b1076dfc-b9ad-4769-8c92-a6c4dae69d19",
        "trusted": true
      },
      "cell_type": "code",
      "source": "import matplotlib.pyplot as plt\nimport numpy as np # linear algebra\nimport pandas as pd # data processing, CSV file I/O (e.g. pd.read_csv)\nimport seaborn as sns\nimport warnings\nwarnings.filterwarnings('ignore')\n%matplotlib inline",
      "execution_count": null,
      "outputs": []
    },
    {
      "metadata": {
        "_cell_guid": "79c7e3d0-c299-4dcb-8224-4455121ee9b0",
        "_uuid": "d629ff2d2480ee46fbb7e2d37f6b5fab8052498a",
        "trusted": true
      },
      "cell_type": "code",
      "source": "data = pd.read_csv('../input/train.csv')",
      "execution_count": null,
      "outputs": []
    },
    {
      "metadata": {
        "trusted": true,
        "_uuid": "6271781b1058f0035212512fa14250ecd14684a9"
      },
      "cell_type": "code",
      "source": "data.head()",
      "execution_count": null,
      "outputs": []
    },
    {
      "metadata": {
        "trusted": true,
        "_uuid": "a995e1e43621f33c35469589e6fceb571f176342"
      },
      "cell_type": "code",
      "source": "data.describe()",
      "execution_count": null,
      "outputs": []
    },
    {
      "metadata": {
        "trusted": true,
        "_uuid": "1bccbd7bf03b3aa2d52df2cef8e9225f05dbc084"
      },
      "cell_type": "code",
      "source": "data.isnull().sum()",
      "execution_count": null,
      "outputs": []
    },
    {
      "metadata": {
        "trusted": true,
        "_uuid": "8a824647ee145067d7e63c126c661ece1fb1da57"
      },
      "cell_type": "code",
      "source": "data['Survived'].value_counts()\nsns.countplot(x='Survived', data=data, palette='hls')",
      "execution_count": null,
      "outputs": []
    },
    {
      "metadata": {
        "trusted": true,
        "_uuid": "5e171b289824b08448dbfe609618ca10c8034f26"
      },
      "cell_type": "code",
      "source": "count_nosur = len(data[data['Survived']==0])\ncount_sur = len(data[data['Survived']==1])\ntot_psng = count_nosur+count_sur\npct_nosur = count_nosur/tot_psng\npct_sur = count_sur/tot_psng\nprint(\"Survivors = \", pct_sur*100)\nprint(\"No Survivors = \", pct_nosur*100)",
      "execution_count": null,
      "outputs": []
    },
    {
      "metadata": {
        "trusted": true,
        "_uuid": "4cf06d56252d9537506cd61e28acc0c91b12c59d"
      },
      "cell_type": "code",
      "source": "#data.groupby('Survived').mean()\ndata.groupby('Sex'). mean()",
      "execution_count": null,
      "outputs": []
    },
    {
      "metadata": {
        "trusted": true,
        "_uuid": "a9e2c84aa17a7d09a87a1d04c696c5f76dc3efa3"
      },
      "cell_type": "code",
      "source": "data.groupby(['Sex', 'Survived'])['Survived'].count()",
      "execution_count": null,
      "outputs": []
    },
    {
      "metadata": {
        "trusted": true,
        "_uuid": "b4ec82b316ecd5c090312cbb67301b33dd54bf0b"
      },
      "cell_type": "code",
      "source": "pd.crosstab(data.Sex, data.Survived).plot(kind='bar')",
      "execution_count": null,
      "outputs": []
    },
    {
      "metadata": {
        "trusted": true,
        "_uuid": "2f3e8cca31e7b04422f211d056f6cfbe68e3d214"
      },
      "cell_type": "code",
      "source": "pd.crosstab(data.Pclass, data.Survived, margins=True).style.background_gradient(cmap='summer_r')",
      "execution_count": null,
      "outputs": []
    },
    {
      "metadata": {
        "trusted": true,
        "_uuid": "8fa50102799d6a1c72def0b9c4ce0a6dfe8d008d"
      },
      "cell_type": "code",
      "source": "pd.crosstab(data.Pclass, data.Survived).plot(kind='bar')",
      "execution_count": null,
      "outputs": []
    },
    {
      "metadata": {
        "trusted": true,
        "_uuid": "0a9faa95a9bcb86c44a6b55b964d72158145e480"
      },
      "cell_type": "code",
      "source": "pd.crosstab([data.Sex, data.Survived], data.Pclass, margins = True).style.background_gradient(cmap='summer_r')",
      "execution_count": null,
      "outputs": []
    },
    {
      "metadata": {
        "trusted": true,
        "_uuid": "db424845e8ed3217097583fc6f8e7e3c6b177faf"
      },
      "cell_type": "code",
      "source": "pd.crosstab([data.Survived, data.Pclass], data.Sex).plot(kind='bar')",
      "execution_count": null,
      "outputs": []
    },
    {
      "metadata": {
        "trusted": true,
        "_uuid": "f617cc53fad9b6a30a99506fb5c91eb063443438"
      },
      "cell_type": "code",
      "source": "sns.factorplot('Pclass', 'Survived', hue='Sex', data=data)",
      "execution_count": null,
      "outputs": []
    },
    {
      "metadata": {
        "trusted": true,
        "_uuid": "4299ba06f945cbb72bb664de45616b84153b8516"
      },
      "cell_type": "code",
      "source": "pd.crosstab([data.Age, data.Pclass], data.Survived).plot(kind='bar')",
      "execution_count": null,
      "outputs": []
    },
    {
      "metadata": {
        "trusted": true,
        "_uuid": "705dcf91aa376c552a6144ab3394d6246877712a"
      },
      "cell_type": "code",
      "source": "f,ax=plt.subplots(1,2,figsize=(18,8))\nsns.violinplot(\"Pclass\",\"Age\", hue=\"Survived\", data=data,split=True,ax=ax[0])\nax[0].set_title('Pclass and Age vs Survived')\nax[0].set_yticks(range(0,110,10))\nsns.violinplot(\"Sex\",\"Age\", hue=\"Survived\", data=data,split=True,ax=ax[1])\nax[1].set_title('Sex and Age vs Survived')\nax[1].set_yticks(range(0,110,10))\nplt.show()",
      "execution_count": null,
      "outputs": []
    },
    {
      "metadata": {
        "trusted": true,
        "_uuid": "4f6ceb08b8b69b8c16a41318382aa9e23d60549d"
      },
      "cell_type": "code",
      "source": "data['Initial']=0\nfor i in data:\n    data['Initial'] = data.Name.str.extract('([A-Za-z]+)\\.')",
      "execution_count": null,
      "outputs": []
    },
    {
      "metadata": {
        "trusted": true,
        "_uuid": "6a6a946aa59b458e9ed54009867e533ffa6e9d68"
      },
      "cell_type": "code",
      "source": "pd.crosstab(data.Initial,data.Sex).T.style.background_gradient(cmap='summer_r') #Checking the Initials with the Sex",
      "execution_count": null,
      "outputs": []
    },
    {
      "metadata": {
        "trusted": true,
        "_uuid": "7c90877ec4a30aa4aba8b214124712ea35d2a750"
      },
      "cell_type": "code",
      "source": "data['Initial'].replace(['Mlle','Mme','Ms','Dr','Major','Lady','Countess','Jonkheer','Col','Rev','Capt','Sir','Don'],\n                        ['Miss','Miss','Miss','Mr','Mr','Mrs','Mrs','Other','Other','Other','Mr','Mr','Mr'],inplace=True)",
      "execution_count": null,
      "outputs": []
    },
    {
      "metadata": {
        "trusted": true,
        "_uuid": "3a9970d0e66d6e93daa11413aaa3e60b711076f7"
      },
      "cell_type": "code",
      "source": "data.groupby('Initial')['Age'].mean()",
      "execution_count": null,
      "outputs": []
    },
    {
      "metadata": {
        "trusted": true,
        "_uuid": "f2d1463437ce0714a10b4505ad2718006ddfaadf"
      },
      "cell_type": "code",
      "source": "data.loc[(data.Age.isnull())&(data.Initial=='Master'),'Age']=4\ndata.loc[(data.Age.isnull())&(data.Initial=='Miss'),'Age']=22\ndata.loc[(data.Age.isnull())&(data.Initial=='Mr'),'Age']=33\ndata.loc[(data.Age.isnull())&(data.Initial=='Mrs'),'Age']=35\ndata.loc[(data.Age.isnull())&(data.Initial=='Other'),'Age']=47",
      "execution_count": null,
      "outputs": []
    },
    {
      "metadata": {
        "trusted": true,
        "_uuid": "04c4db3ecf163116c7991c54dd59988fa4c47891"
      },
      "cell_type": "code",
      "source": "data.Age.isnull().any()",
      "execution_count": null,
      "outputs": []
    },
    {
      "metadata": {
        "trusted": true,
        "_uuid": "8ffe53b859c2e555776ce2a3a7fe7a8a5780351e"
      },
      "cell_type": "code",
      "source": "#understanding the distribution with seaborn\nwith sns.plotting_context(\"notebook\",font_scale=2.5):\n    g = sns.pairplot(data[['Age','Survived','Pclass','Sex','Fare']], \n                 hue='Pclass', palette='tab20',size=6)\ng.set(xticklabels=[]);",
      "execution_count": null,
      "outputs": []
    },
    {
      "metadata": {
        "trusted": true,
        "_uuid": "a0ffd77cda14f7ea089dc94ab2b4e8898a4ccbc0"
      },
      "cell_type": "code",
      "source": "f,ax=plt.subplots(1,2,figsize=(20,10))\ndata[data['Survived']==0].Age.plot.hist(ax=ax[0],bins=20,edgecolor='black',color='red')\nax[0].set_title('Survived= 0')\nx1=list(range(0,85,5))\nax[0].set_xticks(x1)\ndata[data['Survived']==1].Age.plot.hist(ax=ax[1],color='green',bins=20,edgecolor='black')\nax[1].set_title('Survived= 1')\nx2=list(range(0,85,5))\nax[1].set_xticks(x2)\nplt.show()",
      "execution_count": null,
      "outputs": []
    },
    {
      "metadata": {
        "trusted": true,
        "_uuid": "1dc2c41f897c5f6888562a2f14cc091fcc58bae0"
      },
      "cell_type": "code",
      "source": "sns.factorplot('Pclass','Survived',col='Initial',data=data)\nplt.show()",
      "execution_count": null,
      "outputs": []
    },
    {
      "metadata": {
        "trusted": true,
        "_uuid": "b9bc43697d7b5ecffa15d70343361d7311cbbe66"
      },
      "cell_type": "code",
      "source": "pd.crosstab([data.Embarked, data.Pclass], [data.Sex, data.Survived], margins = True).style.background_gradient(cmap='summer_r')",
      "execution_count": null,
      "outputs": []
    },
    {
      "metadata": {
        "trusted": true,
        "_uuid": "042d52380d9ec2f726bfceead4e5106f26e5a310"
      },
      "cell_type": "code",
      "source": "pd.crosstab(data.Embarked, data.Survived).plot(kind='bar')",
      "execution_count": null,
      "outputs": []
    },
    {
      "metadata": {
        "trusted": true,
        "_uuid": "4fc5164925a1ce4fd26b8b6117164ee29bbb8dba"
      },
      "cell_type": "code",
      "source": "sns.factorplot('Embarked', 'Survived', data=data)",
      "execution_count": null,
      "outputs": []
    },
    {
      "metadata": {
        "trusted": true,
        "_uuid": "9f9d442312797eb471bfb2997f6c4d3428fb189f"
      },
      "cell_type": "code",
      "source": "f,ax=plt.subplots(2,2,figsize=(20,15))\nsns.countplot('Embarked',data=data,ax=ax[0,0])\nax[0,0].set_title('No. Of Passengers Boarded')\nsns.countplot('Embarked',hue='Sex',data=data,ax=ax[0,1])\nax[0,1].set_title('Male-Female Split for Embarked')\nsns.countplot('Embarked',hue='Survived',data=data,ax=ax[1,0])\nax[1,0].set_title('Embarked vs Survived')\nsns.countplot('Embarked',hue='Pclass',data=data,ax=ax[1,1])\nax[1,1].set_title('Embarked vs Pclass')\nplt.subplots_adjust(wspace=0.2,hspace=0.5)\nplt.show()",
      "execution_count": null,
      "outputs": []
    },
    {
      "metadata": {
        "trusted": true,
        "_uuid": "1369d5569e91c66cb8f62442672becaba0751b56"
      },
      "cell_type": "code",
      "source": "sns.factorplot('Pclass', 'Survived', hue='Sex', col='Embarked', data=data)",
      "execution_count": null,
      "outputs": []
    },
    {
      "metadata": {
        "trusted": true,
        "_uuid": "a6771ba9adc366fb9ffccb0c37bf61de8e1ca43d"
      },
      "cell_type": "code",
      "source": "",
      "execution_count": null,
      "outputs": []
    },
    {
      "metadata": {
        "trusted": true,
        "_uuid": "9df1039dc7a8b10e74877b2bec077c7de712020b"
      },
      "cell_type": "code",
      "source": "data['Embarked'].fillna('S', inplace=True)",
      "execution_count": null,
      "outputs": []
    },
    {
      "metadata": {
        "trusted": true,
        "_uuid": "8cf375af0f40bdf8ec3c15eb03947d19f009a755"
      },
      "cell_type": "code",
      "source": "data.Embarked.isnull().any()",
      "execution_count": null,
      "outputs": []
    },
    {
      "metadata": {
        "trusted": true,
        "_uuid": "ff901fb8b74b8bf722ead0364eedb81c83c6fd19"
      },
      "cell_type": "code",
      "source": "data.isnull().sum()",
      "execution_count": null,
      "outputs": []
    },
    {
      "metadata": {
        "trusted": true,
        "_uuid": "3e40824d2a4bcb3a2d850289471716017cf098f6"
      },
      "cell_type": "code",
      "source": "pd.crosstab([data.SibSp,data.Sex],[data.Survived, data.Pclass]).style.background_gradient(cmap='summer_r')",
      "execution_count": null,
      "outputs": []
    },
    {
      "metadata": {
        "trusted": true,
        "_uuid": "37a8ff81d6e6838fbff9bc8fc0b33fbd1ff757c7"
      },
      "cell_type": "code",
      "source": "pd.crosstab(data.SibSp,data.Pclass).style.background_gradient(cmap='summer_r')",
      "execution_count": null,
      "outputs": []
    },
    {
      "metadata": {
        "trusted": true,
        "_uuid": "678c96da46a75a2da4ec54230e1d92970910f6a6"
      },
      "cell_type": "code",
      "source": "f,ax=plt.subplots(1,2,figsize=(20,8))\nsns.barplot('SibSp','Survived',data=data,ax=ax[0])\nax[0].set_title('SibSp vs Survived')\nsns.factorplot('SibSp','Survived',data=data,ax=ax[1])\nax[1].set_title('SibSp vs Survived')\nplt.close(2)\nplt.show()\n",
      "execution_count": null,
      "outputs": []
    },
    {
      "metadata": {
        "trusted": true,
        "_uuid": "6dfdbde5dca18fb3af2a7769a9cd08632e9f4c35"
      },
      "cell_type": "code",
      "source": "pd.crosstab(data.Parch,data.Pclass).style.background_gradient(cmap='summer_r')",
      "execution_count": null,
      "outputs": []
    },
    {
      "metadata": {
        "trusted": true,
        "_uuid": "eb1172d82ed919bc117a8f56fda8f7cd98b6146e"
      },
      "cell_type": "code",
      "source": "pd.crosstab(data.Parch,data.Pclass).style.background_gradient(cmap='summer_r')",
      "execution_count": null,
      "outputs": []
    },
    {
      "metadata": {
        "trusted": true,
        "_uuid": "d05350b0028df864c21bc7354b0c8891bd22a3b0"
      },
      "cell_type": "code",
      "source": "f,ax=plt.subplots(1,2,figsize=(20,8))\nsns.barplot('Parch','Survived',data=data,ax=ax[0])\nax[0].set_title('Parch vs Survived')\nsns.factorplot('Parch','Survived',data=data,ax=ax[1])\nax[1].set_title('Parch vs Survived')\nplt.close(2)\nplt.show()",
      "execution_count": null,
      "outputs": []
    },
    {
      "metadata": {
        "trusted": true,
        "_uuid": "e69d06bfb24b4e58b4699b60e416ce34bdb1e2c6"
      },
      "cell_type": "code",
      "source": "print(\"Highest fare was: \", data['Fare'].max())\nprint(\"Lowest fare was: \", data['Fare'].min())\nprint(\"Average fare was: \", data['Fare'].mean())",
      "execution_count": null,
      "outputs": []
    },
    {
      "metadata": {
        "trusted": true,
        "_uuid": "58ac2d0f4a78d1c81af3dbd14508ef5b0b0f8352"
      },
      "cell_type": "code",
      "source": "f,ax=plt.subplots(1,3,figsize=(20,8))\nsns.distplot(data[data['Pclass']==1].Fare,ax=ax[0])\nax[0].set_title('Fares in Pclass 1')\nsns.distplot(data[data['Pclass']==2].Fare,ax=ax[1])\nax[1].set_title('Fares in Pclass 2')\nsns.distplot(data[data['Pclass']==3].Fare,ax=ax[2])\nax[2].set_title('Fares in Pclass 3')\nplt.show()",
      "execution_count": null,
      "outputs": []
    },
    {
      "metadata": {
        "trusted": true,
        "_uuid": "fd8675e004aa6d3dcd7b2a24747e4ed5375e7917"
      },
      "cell_type": "code",
      "source": "sns.boxplot(x='Pclass', y='Fare', hue='Survived',data=data)",
      "execution_count": null,
      "outputs": []
    },
    {
      "metadata": {
        "trusted": true,
        "_uuid": "3db88d47ad39074d13e097df9bd908dc686833da"
      },
      "cell_type": "code",
      "source": "sns.boxplot(x='Embarked', y='Fare', hue='Survived',data=data)",
      "execution_count": null,
      "outputs": []
    },
    {
      "metadata": {
        "trusted": true,
        "_uuid": "47c66d2d47478ad205555e409a3a0091d8cd39b7"
      },
      "cell_type": "code",
      "source": "sns.heatmap(data.corr(),annot=True,cmap='RdYlGn',linewidths=0.2) #data.corr()-->correlation matrix\nfig=plt.gcf()\nfig.set_size_inches(10,8)\nplt.show()",
      "execution_count": null,
      "outputs": []
    },
    {
      "metadata": {
        "trusted": true,
        "_uuid": "b24f07d50e4e52c5aeb8f71c752005237977f413"
      },
      "cell_type": "code",
      "source": "f,ax=plt.subplots(figsize=(12,9))\nsns.heatmap(data.corr(), annot=True, square=True)",
      "execution_count": null,
      "outputs": []
    },
    {
      "metadata": {
        "trusted": true,
        "_uuid": "998465b04ee7478207cc71188af4f0cf8cbb35be"
      },
      "cell_type": "code",
      "source": "data['Age_band']=0\ndata.loc[data['Age']<=16,'Age_band']=0\ndata.loc[(data['Age']>16)&(data['Age']<=32),'Age_band']=1\ndata.loc[(data['Age']>32)&(data['Age']<=48),'Age_band']=2\ndata.loc[(data['Age']>48)&(data['Age']<=64),'Age_band']=3\ndata.loc[data['Age']>64,'Age_band']=4\ndata.head(2)",
      "execution_count": null,
      "outputs": []
    },
    {
      "metadata": {
        "trusted": true,
        "_uuid": "5afb715635bd9f666d64c36c79f0a614e4ba7641"
      },
      "cell_type": "code",
      "source": "data['Age_band'].value_counts().to_frame().style.background_gradient(cmap='summer_r')",
      "execution_count": null,
      "outputs": []
    },
    {
      "metadata": {
        "trusted": true,
        "_uuid": "0c8268a75ca390170b264d0f3c5f34cd77a20877"
      },
      "cell_type": "code",
      "source": "sns.factorplot('Age_band','Survived',data=data,col='Pclass')",
      "execution_count": null,
      "outputs": []
    },
    {
      "metadata": {
        "trusted": true,
        "_uuid": "62091d912550fd56a6058e1f450615e9d0f86127"
      },
      "cell_type": "code",
      "source": "data['Family_Size']=0\ndata['Family_Size']=data['Parch']+data['SibSp']#family size\ndata['Alone']=0\ndata.loc[data.Family_Size==0,'Alone']=1#Alone\n\nf,ax=plt.subplots(1,2,figsize=(18,6))\nsns.factorplot('Family_Size','Survived',data=data,ax=ax[0])\nax[0].set_title('Family_Size vs Survived')\nsns.factorplot('Alone','Survived',data=data,ax=ax[1])\nax[1].set_title('Alone vs Survived')\nplt.close(2)\nplt.close(3)\nplt.show()",
      "execution_count": null,
      "outputs": []
    },
    {
      "metadata": {
        "trusted": true,
        "_uuid": "f1cb8627cc169307547067bde1488086381f0ed2"
      },
      "cell_type": "code",
      "source": "sns.factorplot('Alone','Survived',data=data,hue='Sex',col='Pclass')\nplt.show()",
      "execution_count": null,
      "outputs": []
    },
    {
      "metadata": {
        "trusted": true,
        "_uuid": "01d905dcbc058452448e285d00a1dae8dcc92b7c"
      },
      "cell_type": "code",
      "source": "data['Fare_Range']=pd.qcut(data['Fare'],4)\ndata.groupby(['Fare_Range'])['Survived'].mean().to_frame().style.background_gradient(cmap='summer_r')",
      "execution_count": null,
      "outputs": []
    },
    {
      "metadata": {
        "trusted": true,
        "_uuid": "7219723ca4d4fd87ad6bfc8a1ff93f3ca3a3847d"
      },
      "cell_type": "code",
      "source": "data['Fare_cat']=0\ndata.loc[data['Fare']<=7.91,'Fare_cat']=0\ndata.loc[(data['Fare']>7.91)&(data['Fare']<=14.454),'Fare_cat']=1\ndata.loc[(data['Fare']>14.454)&(data['Fare']<=31),'Fare_cat']=2\ndata.loc[(data['Fare']>31)&(data['Fare']<=513),'Fare_cat']=3",
      "execution_count": null,
      "outputs": []
    },
    {
      "metadata": {
        "trusted": true,
        "_uuid": "646a54fd7dd9f8f08fee03904ab3763342460d8c"
      },
      "cell_type": "code",
      "source": "sns.factorplot('Fare_cat','Survived',data=data,hue='Sex')\nplt.show()",
      "execution_count": null,
      "outputs": []
    },
    {
      "metadata": {
        "trusted": true,
        "_uuid": "d06ff0aa9442ba9710c31fd837fed4a275abd838"
      },
      "cell_type": "code",
      "source": "data['Sex'].replace(['male','female'],[0,1],inplace=True)\ndata['Embarked'].replace(['S','C','Q'],[0,1,2],inplace=True)\ndata['Initial'].replace(['Mr','Mrs','Miss','Master','Other'],[0,1,2,3,4],inplace=True)",
      "execution_count": null,
      "outputs": []
    },
    {
      "metadata": {
        "trusted": true,
        "_uuid": "1c9e722c6baedd0abdc49d2750c9ac4d05f0d8f7"
      },
      "cell_type": "code",
      "source": "data.drop(['Name','Age','Ticket','Fare','Cabin','Fare_Range','PassengerId'],axis=1,inplace=True)\nsns.heatmap(data.corr(),annot=True,cmap='RdYlGn',linewidths=0.2,annot_kws={'size':20})\nfig=plt.gcf()\nfig.set_size_inches(18,15)\nplt.xticks(fontsize=14)\nplt.yticks(fontsize=14)\nplt.show()",
      "execution_count": null,
      "outputs": []
    },
    {
      "metadata": {
        "trusted": true,
        "_uuid": "bf6821428d6f99eae33158adf8f739efba9ef2f4"
      },
      "cell_type": "code",
      "source": "",
      "execution_count": null,
      "outputs": []
    },
    {
      "metadata": {
        "trusted": true,
        "_uuid": "81264800b6ea3fe761ac695215bac0e0e7b6187e"
      },
      "cell_type": "code",
      "source": "",
      "execution_count": null,
      "outputs": []
    },
    {
      "metadata": {
        "trusted": true,
        "_uuid": "37b8539f0685045aabd03fa4c6df032f4412bba3"
      },
      "cell_type": "code",
      "source": "",
      "execution_count": null,
      "outputs": []
    },
    {
      "metadata": {
        "trusted": true,
        "_uuid": "178cc01864bb691e1c7855f9089756e4b07fd032"
      },
      "cell_type": "code",
      "source": "",
      "execution_count": null,
      "outputs": []
    },
    {
      "metadata": {
        "trusted": true,
        "_uuid": "7241a31ef7d6d89628fb1b5241a0b4decef05a7e"
      },
      "cell_type": "code",
      "source": "",
      "execution_count": null,
      "outputs": []
    },
    {
      "metadata": {
        "trusted": true,
        "_uuid": "f7fc28a4a03e842f73b8d180bb21520eab13713a"
      },
      "cell_type": "code",
      "source": "",
      "execution_count": null,
      "outputs": []
    }
  ],
  "metadata": {
    "kernelspec": {
      "display_name": "Python 3",
      "language": "python",
      "name": "python3"
    },
    "language_info": {
      "name": "python",
      "version": "3.6.6",
      "mimetype": "text/x-python",
      "codemirror_mode": {
        "name": "ipython",
        "version": 3
      },
      "pygments_lexer": "ipython3",
      "nbconvert_exporter": "python",
      "file_extension": ".py"
    }
  },
  "nbformat": 4,
  "nbformat_minor": 1
}